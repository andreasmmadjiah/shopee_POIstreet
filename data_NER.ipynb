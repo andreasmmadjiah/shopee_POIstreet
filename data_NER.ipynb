{
 "cells": [
  {
   "cell_type": "code",
   "execution_count": 1,
   "metadata": {
    "ExecuteTime": {
     "end_time": "2021-03-15T15:56:00.311406Z",
     "start_time": "2021-03-15T15:55:54.589915Z"
    }
   },
   "outputs": [],
   "source": [
    "import tensorflow as tf\n",
    "import numpy as np\n",
    "import unicodedata\n",
    "import re\n",
    "import pandas as pd"
   ]
  },
  {
   "cell_type": "code",
   "execution_count": null,
   "metadata": {
    "ExecuteTime": {
     "end_time": "2021-03-15T14:09:28.856354Z",
     "start_time": "2021-03-15T14:09:28.756654Z"
    }
   },
   "outputs": [],
   "source": []
  },
  {
   "cell_type": "code",
   "execution_count": 2,
   "metadata": {
    "ExecuteTime": {
     "end_time": "2021-03-15T15:56:00.327388Z",
     "start_time": "2021-03-15T15:56:00.313379Z"
    }
   },
   "outputs": [],
   "source": [
    "\n",
    "def unicode_to_ascii(s):\n",
    "    return ''.join(\n",
    "        c for c in unicodedata.normalize('NFD', s)   # it is used to convert all acented characters è to e etc2\n",
    "        if unicodedata.category(c) != 'Mn')\n",
    "\n",
    "\n",
    "def normalize_string(s):\n",
    "    s = unicode_to_ascii(s)   # why we use \\r? so that the python does not process it as a for example treat \\n as enter etc but as a raw string which regex exactly needed\n",
    "    s = re.sub(r'([!.?])', r' \\1', s)  # the !.? is grouped, so if there is a match, the grouped will be position at 1. So using \" \\1\" will be outputted \" [?!.]\"\n",
    "    s = re.sub(r'[^a-zA-Z.!?]+', r' ', s)\n",
    "    s = re.sub(r'\\s+', r' ', s) # + means one or more repetition\n",
    "    return s"
   ]
  },
  {
   "cell_type": "code",
   "execution_count": 3,
   "metadata": {
    "ExecuteTime": {
     "end_time": "2021-03-15T15:56:00.783377Z",
     "start_time": "2021-03-15T15:56:00.329379Z"
    }
   },
   "outputs": [
    {
     "data": {
      "text/html": [
       "<div>\n",
       "<style scoped>\n",
       "    .dataframe tbody tr th:only-of-type {\n",
       "        vertical-align: middle;\n",
       "    }\n",
       "\n",
       "    .dataframe tbody tr th {\n",
       "        vertical-align: top;\n",
       "    }\n",
       "\n",
       "    .dataframe thead th {\n",
       "        text-align: right;\n",
       "    }\n",
       "</style>\n",
       "<table border=\"1\" class=\"dataframe\">\n",
       "  <thead>\n",
       "    <tr style=\"text-align: right;\">\n",
       "      <th></th>\n",
       "      <th>id</th>\n",
       "      <th>raw_address</th>\n",
       "      <th>POI/street</th>\n",
       "    </tr>\n",
       "  </thead>\n",
       "  <tbody>\n",
       "    <tr>\n",
       "      <th>0</th>\n",
       "      <td>0</td>\n",
       "      <td>jl kapuk timur delta sili iii lippo cika 11 a ...</td>\n",
       "      <td>/jl kapuk timur delta sili iii lippo cika</td>\n",
       "    </tr>\n",
       "    <tr>\n",
       "      <th>1</th>\n",
       "      <td>1</td>\n",
       "      <td>aye, jati sampurna</td>\n",
       "      <td>/</td>\n",
       "    </tr>\n",
       "    <tr>\n",
       "      <th>2</th>\n",
       "      <td>2</td>\n",
       "      <td>setu siung 119 rt 5 1 13880 cipayung</td>\n",
       "      <td>/siung</td>\n",
       "    </tr>\n",
       "    <tr>\n",
       "      <th>3</th>\n",
       "      <td>3</td>\n",
       "      <td>toko dita, kertosono</td>\n",
       "      <td>toko dita/</td>\n",
       "    </tr>\n",
       "    <tr>\n",
       "      <th>4</th>\n",
       "      <td>4</td>\n",
       "      <td>jl. orde baru</td>\n",
       "      <td>/jl. orde baru</td>\n",
       "    </tr>\n",
       "  </tbody>\n",
       "</table>\n",
       "</div>"
      ],
      "text/plain": [
       "   id                                        raw_address  \\\n",
       "0   0  jl kapuk timur delta sili iii lippo cika 11 a ...   \n",
       "1   1                                 aye, jati sampurna   \n",
       "2   2               setu siung 119 rt 5 1 13880 cipayung   \n",
       "3   3                               toko dita, kertosono   \n",
       "4   4                                      jl. orde baru   \n",
       "\n",
       "                                  POI/street  \n",
       "0  /jl kapuk timur delta sili iii lippo cika  \n",
       "1                                          /  \n",
       "2                                     /siung  \n",
       "3                                 toko dita/  \n",
       "4                             /jl. orde baru  "
      ]
     },
     "execution_count": 3,
     "metadata": {},
     "output_type": "execute_result"
    }
   ],
   "source": [
    "train = pd.read_csv('train.csv')\n",
    "train.head()"
   ]
  },
  {
   "cell_type": "code",
   "execution_count": 4,
   "metadata": {
    "ExecuteTime": {
     "end_time": "2021-03-15T15:56:00.798380Z",
     "start_time": "2021-03-15T15:56:00.785380Z"
    }
   },
   "outputs": [
    {
     "data": {
      "text/plain": [
       "Index(['id', 'raw_address', 'POI/street'], dtype='object')"
      ]
     },
     "execution_count": 4,
     "metadata": {},
     "output_type": "execute_result"
    }
   ],
   "source": [
    "train.columns"
   ]
  },
  {
   "cell_type": "code",
   "execution_count": 5,
   "metadata": {
    "ExecuteTime": {
     "end_time": "2021-03-15T15:56:00.861376Z",
     "start_time": "2021-03-15T15:56:00.800379Z"
    }
   },
   "outputs": [
    {
     "data": {
      "text/html": [
       "<div>\n",
       "<style scoped>\n",
       "    .dataframe tbody tr th:only-of-type {\n",
       "        vertical-align: middle;\n",
       "    }\n",
       "\n",
       "    .dataframe tbody tr th {\n",
       "        vertical-align: top;\n",
       "    }\n",
       "\n",
       "    .dataframe thead th {\n",
       "        text-align: right;\n",
       "    }\n",
       "</style>\n",
       "<table border=\"1\" class=\"dataframe\">\n",
       "  <thead>\n",
       "    <tr style=\"text-align: right;\">\n",
       "      <th></th>\n",
       "      <th>id</th>\n",
       "      <th>raw_address</th>\n",
       "    </tr>\n",
       "  </thead>\n",
       "  <tbody>\n",
       "    <tr>\n",
       "      <th>0</th>\n",
       "      <td>0</td>\n",
       "      <td>s. par 53 sidanegara 4 cilacap tengah</td>\n",
       "    </tr>\n",
       "    <tr>\n",
       "      <th>1</th>\n",
       "      <td>1</td>\n",
       "      <td>angg per, baloi indah kel. lubuk baja</td>\n",
       "    </tr>\n",
       "    <tr>\n",
       "      <th>2</th>\n",
       "      <td>2</td>\n",
       "      <td>asma laun, mand imog,</td>\n",
       "    </tr>\n",
       "    <tr>\n",
       "      <th>3</th>\n",
       "      <td>3</td>\n",
       "      <td>ud agung rej, raya nga sri wedari karanganyar</td>\n",
       "    </tr>\n",
       "    <tr>\n",
       "      <th>4</th>\n",
       "      <td>4</td>\n",
       "      <td>cut mutia, 35 baiturrahman</td>\n",
       "    </tr>\n",
       "  </tbody>\n",
       "</table>\n",
       "</div>"
      ],
      "text/plain": [
       "   id                                    raw_address\n",
       "0   0          s. par 53 sidanegara 4 cilacap tengah\n",
       "1   1          angg per, baloi indah kel. lubuk baja\n",
       "2   2                          asma laun, mand imog,\n",
       "3   3  ud agung rej, raya nga sri wedari karanganyar\n",
       "4   4                     cut mutia, 35 baiturrahman"
      ]
     },
     "execution_count": 5,
     "metadata": {},
     "output_type": "execute_result"
    }
   ],
   "source": [
    "test = pd.read_csv('test.csv')\n",
    "test.head()"
   ]
  },
  {
   "cell_type": "markdown",
   "metadata": {
    "ExecuteTime": {
     "end_time": "2021-03-15T01:57:43.681458Z",
     "start_time": "2021-03-15T01:57:43.676457Z"
    }
   },
   "source": [
    "# Get data Street"
   ]
  },
  {
   "cell_type": "code",
   "execution_count": 25,
   "metadata": {
    "ExecuteTime": {
     "end_time": "2021-03-15T02:00:14.380506Z",
     "start_time": "2021-03-15T02:00:13.478498Z"
    }
   },
   "outputs": [],
   "source": [
    "street = train['POI/street'].apply(lambda x: x.split('/')[1])\n",
    "street_split = street.apply(lambda x: x.split(' '))\n",
    "raw_split = train['raw_address'].apply(lambda x: x.split(' '))\n",
    "# data_train[:10]\n",
    "# print(data_train[10:])\n",
    "\n",
    "\n",
    "data_train = pd.DataFrame({'raw':train['raw_address'].values,'street':street, 'raw_split':raw_split,'street_split':street_split})"
   ]
  },
  {
   "cell_type": "code",
   "execution_count": 26,
   "metadata": {
    "ExecuteTime": {
     "end_time": "2021-03-15T02:00:16.687534Z",
     "start_time": "2021-03-15T02:00:16.675511Z"
    }
   },
   "outputs": [
    {
     "data": {
      "text/html": [
       "<div>\n",
       "<style scoped>\n",
       "    .dataframe tbody tr th:only-of-type {\n",
       "        vertical-align: middle;\n",
       "    }\n",
       "\n",
       "    .dataframe tbody tr th {\n",
       "        vertical-align: top;\n",
       "    }\n",
       "\n",
       "    .dataframe thead th {\n",
       "        text-align: right;\n",
       "    }\n",
       "</style>\n",
       "<table border=\"1\" class=\"dataframe\">\n",
       "  <thead>\n",
       "    <tr style=\"text-align: right;\">\n",
       "      <th></th>\n",
       "      <th>raw</th>\n",
       "      <th>street</th>\n",
       "      <th>raw_split</th>\n",
       "      <th>street_split</th>\n",
       "    </tr>\n",
       "  </thead>\n",
       "  <tbody>\n",
       "    <tr>\n",
       "      <th>299990</th>\n",
       "      <td>ver, durian bajenis</td>\n",
       "      <td></td>\n",
       "      <td>[ver,, durian, bajenis]</td>\n",
       "      <td>[]</td>\n",
       "    </tr>\n",
       "    <tr>\n",
       "      <th>299991</th>\n",
       "      <td>prib 3 pangkalan jati baru cinere</td>\n",
       "      <td>prib 3</td>\n",
       "      <td>[prib, 3, pangkalan, jati, baru, cinere]</td>\n",
       "      <td>[prib, 3]</td>\n",
       "    </tr>\n",
       "    <tr>\n",
       "      <th>299992</th>\n",
       "      <td>kios asmi panaikang</td>\n",
       "      <td></td>\n",
       "      <td>[kios, asmi, panaikang]</td>\n",
       "      <td>[]</td>\n",
       "    </tr>\n",
       "    <tr>\n",
       "      <th>299993</th>\n",
       "      <td>perum tata resid nirwana no e1 6 tanjungan kel.</td>\n",
       "      <td>perum tata resid nirwana</td>\n",
       "      <td>[perum, tata, resid, nirwana, no, e1, 6, tanju...</td>\n",
       "      <td>[perum, tata, resid, nirwana]</td>\n",
       "    </tr>\n",
       "    <tr>\n",
       "      <th>299994</th>\n",
       "      <td>karawaci baru kakap raya 156 rt 1 rw 3 karawaci</td>\n",
       "      <td>kakap raya</td>\n",
       "      <td>[karawaci, baru, kakap, raya, 156, rt, 1, rw, ...</td>\n",
       "      <td>[kakap, raya]</td>\n",
       "    </tr>\n",
       "    <tr>\n",
       "      <th>299995</th>\n",
       "      <td>jend ahmad yani 331 kertasari ciamis</td>\n",
       "      <td>jend ahmad yani</td>\n",
       "      <td>[jend, ahmad, yani, 331, kertasari, ciamis]</td>\n",
       "      <td>[jend, ahmad, yani]</td>\n",
       "    </tr>\n",
       "    <tr>\n",
       "      <th>299996</th>\n",
       "      <td>raya cila kko, cilandak timur kel.</td>\n",
       "      <td>raya cila kko</td>\n",
       "      <td>[raya, cila, kko,, cilandak, timur, kel.]</td>\n",
       "      <td>[raya, cila, kko]</td>\n",
       "    </tr>\n",
       "    <tr>\n",
       "      <th>299997</th>\n",
       "      <td>tanjung gusta jl. yaya 2 no 17</td>\n",
       "      <td></td>\n",
       "      <td>[tanjung, gusta, jl., yaya, 2, no, 17]</td>\n",
       "      <td>[]</td>\n",
       "    </tr>\n",
       "    <tr>\n",
       "      <th>299998</th>\n",
       "      <td>jalan cipadu jaya taman asri gang bijaksana 3 ...</td>\n",
       "      <td></td>\n",
       "      <td>[jalan, cipadu, jaya, taman, asri, gang, bijak...</td>\n",
       "      <td>[]</td>\n",
       "    </tr>\n",
       "    <tr>\n",
       "      <th>299999</th>\n",
       "      <td>jaya maspion permata blok beryl b2  no.58</td>\n",
       "      <td></td>\n",
       "      <td>[jaya, maspion, permata, blok, beryl, b2, , no...</td>\n",
       "      <td>[]</td>\n",
       "    </tr>\n",
       "  </tbody>\n",
       "</table>\n",
       "</div>"
      ],
      "text/plain": [
       "                                                      raw  \\\n",
       "299990                                ver, durian bajenis   \n",
       "299991                  prib 3 pangkalan jati baru cinere   \n",
       "299992                                kios asmi panaikang   \n",
       "299993    perum tata resid nirwana no e1 6 tanjungan kel.   \n",
       "299994    karawaci baru kakap raya 156 rt 1 rw 3 karawaci   \n",
       "299995               jend ahmad yani 331 kertasari ciamis   \n",
       "299996                 raya cila kko, cilandak timur kel.   \n",
       "299997                     tanjung gusta jl. yaya 2 no 17   \n",
       "299998  jalan cipadu jaya taman asri gang bijaksana 3 ...   \n",
       "299999          jaya maspion permata blok beryl b2  no.58   \n",
       "\n",
       "                          street  \\\n",
       "299990                             \n",
       "299991                    prib 3   \n",
       "299992                             \n",
       "299993  perum tata resid nirwana   \n",
       "299994                kakap raya   \n",
       "299995           jend ahmad yani   \n",
       "299996             raya cila kko   \n",
       "299997                             \n",
       "299998                             \n",
       "299999                             \n",
       "\n",
       "                                                raw_split  \\\n",
       "299990                            [ver,, durian, bajenis]   \n",
       "299991           [prib, 3, pangkalan, jati, baru, cinere]   \n",
       "299992                            [kios, asmi, panaikang]   \n",
       "299993  [perum, tata, resid, nirwana, no, e1, 6, tanju...   \n",
       "299994  [karawaci, baru, kakap, raya, 156, rt, 1, rw, ...   \n",
       "299995        [jend, ahmad, yani, 331, kertasari, ciamis]   \n",
       "299996          [raya, cila, kko,, cilandak, timur, kel.]   \n",
       "299997             [tanjung, gusta, jl., yaya, 2, no, 17]   \n",
       "299998  [jalan, cipadu, jaya, taman, asri, gang, bijak...   \n",
       "299999  [jaya, maspion, permata, blok, beryl, b2, , no...   \n",
       "\n",
       "                         street_split  \n",
       "299990                             []  \n",
       "299991                      [prib, 3]  \n",
       "299992                             []  \n",
       "299993  [perum, tata, resid, nirwana]  \n",
       "299994                  [kakap, raya]  \n",
       "299995            [jend, ahmad, yani]  \n",
       "299996              [raya, cila, kko]  \n",
       "299997                             []  \n",
       "299998                             []  \n",
       "299999                             []  "
      ]
     },
     "execution_count": 26,
     "metadata": {},
     "output_type": "execute_result"
    }
   ],
   "source": [
    "data_train.tail(10)"
   ]
  },
  {
   "cell_type": "code",
   "execution_count": 8,
   "metadata": {
    "ExecuteTime": {
     "end_time": "2021-03-15T17:02:22.928709Z",
     "start_time": "2021-03-15T17:02:22.923707Z"
    }
   },
   "outputs": [],
   "source": [
    "# # !pip install fuzzywuzzy\n",
    "# # fuzz.ratio('raya','jaya')\n",
    "# from fuzzywuzzy import fuzz\n",
    "# indexes_total = []\n",
    "# tags_total=[]\n",
    "# for row in data_train.values:\n",
    "#     a = row[2]\n",
    "#     b = row[-1]\n",
    "#     print(a)\n",
    "#     print(b)\n",
    "    \n",
    "#     index = [i for i,x in enumerate(a) if x==b[0]]\n",
    "#     indexes=[]\n",
    "#     tags = ['O'] * len(a)\n",
    "#     if b==['']:\n",
    "#         indexes_total.append([])\n",
    "#         tags_total.append(tags)\n",
    "#         print(indexes)\n",
    "#         print(tags)\n",
    "#         print()\n",
    "#         print()\n",
    "#         continue\n",
    "#     for match in index: \n",
    "#         iter_match = match\n",
    "#         if len(b)>1:\n",
    "#             iter_id = 1\n",
    "#             for i,val in enumerate(a[iter_match+1:],start=iter_match+1):\n",
    "#                 if fuzz.partial_ratio(a[i], b[iter_id])==100:\n",
    "#                     if iter_id==1:\n",
    "#                         indexes.append(iter_match)\n",
    "#                         tags[iter_match] = 'B-street'\n",
    "#                     indexes.append(i)\n",
    "#                     tags[i] = 'I-street'\n",
    "#                     iter_id+=1\n",
    "#                     if iter_id>len(b)-1:\n",
    "#                         break\n",
    "#                     continue\n",
    "#                 else:\n",
    "#                     indexes=[]\n",
    "#                     break\n",
    "#             if len(indexes)==len(b):\n",
    "#                 break\n",
    "#         else:\n",
    "#             tags[iter_match] = 'B-street'\n",
    "#             indexes.append(iter_match)\n",
    "            \n",
    "#     indexes_total.append(indexes)\n",
    "#     tags_total.append(tags)\n",
    "#     print(indexes)\n",
    "#     print(tags)\n",
    "#     print()\n",
    "    \n",
    "    \n",
    "            \n",
    "            \n",
    "                \n",
    "            \n",
    "        \n",
    "    \n",
    "    "
   ]
  },
  {
   "cell_type": "code",
   "execution_count": 141,
   "metadata": {
    "ExecuteTime": {
     "end_time": "2021-03-15T08:01:45.820276Z",
     "start_time": "2021-03-15T08:01:45.814306Z"
    }
   },
   "outputs": [
    {
     "data": {
      "text/plain": [
       "True"
      ]
     },
     "execution_count": 141,
     "metadata": {},
     "output_type": "execute_result"
    }
   ],
   "source": [
    "len(indexes_total)==len(data_train.values)"
   ]
  },
  {
   "cell_type": "code",
   "execution_count": 142,
   "metadata": {
    "ExecuteTime": {
     "end_time": "2021-03-15T08:01:45.833945Z",
     "start_time": "2021-03-15T08:01:45.822356Z"
    }
   },
   "outputs": [
    {
     "data": {
      "text/plain": [
       "True"
      ]
     },
     "execution_count": 142,
     "metadata": {},
     "output_type": "execute_result"
    }
   ],
   "source": [
    "len(tags_total)==len(data_train.values)"
   ]
  },
  {
   "cell_type": "code",
   "execution_count": 143,
   "metadata": {
    "ExecuteTime": {
     "end_time": "2021-03-15T08:01:45.993944Z",
     "start_time": "2021-03-15T08:01:45.835956Z"
    }
   },
   "outputs": [],
   "source": [
    "data_train_label = data_train.copy()\n",
    "data_train_label['label'] = tags_total"
   ]
  },
  {
   "cell_type": "code",
   "execution_count": 144,
   "metadata": {
    "ExecuteTime": {
     "end_time": "2021-03-15T08:03:59.163169Z",
     "start_time": "2021-03-15T08:03:59.142165Z"
    }
   },
   "outputs": [
    {
     "data": {
      "text/html": [
       "<div>\n",
       "<style scoped>\n",
       "    .dataframe tbody tr th:only-of-type {\n",
       "        vertical-align: middle;\n",
       "    }\n",
       "\n",
       "    .dataframe tbody tr th {\n",
       "        vertical-align: top;\n",
       "    }\n",
       "\n",
       "    .dataframe thead th {\n",
       "        text-align: right;\n",
       "    }\n",
       "</style>\n",
       "<table border=\"1\" class=\"dataframe\">\n",
       "  <thead>\n",
       "    <tr style=\"text-align: right;\">\n",
       "      <th></th>\n",
       "      <th>raw</th>\n",
       "      <th>street</th>\n",
       "      <th>raw_split</th>\n",
       "      <th>street_split</th>\n",
       "      <th>label</th>\n",
       "    </tr>\n",
       "  </thead>\n",
       "  <tbody>\n",
       "    <tr>\n",
       "      <th>0</th>\n",
       "      <td>jl kapuk timur delta sili iii lippo cika 11 a ...</td>\n",
       "      <td>jl kapuk timur delta sili iii lippo cika</td>\n",
       "      <td>[jl, kapuk, timur, delta, sili, iii, lippo, ci...</td>\n",
       "      <td>[jl, kapuk, timur, delta, sili, iii, lippo, cika]</td>\n",
       "      <td>[B-street, I-street, I-street, I-street, I-str...</td>\n",
       "    </tr>\n",
       "    <tr>\n",
       "      <th>1</th>\n",
       "      <td>aye, jati sampurna</td>\n",
       "      <td></td>\n",
       "      <td>[aye,, jati, sampurna]</td>\n",
       "      <td>[]</td>\n",
       "      <td>[O, O, O]</td>\n",
       "    </tr>\n",
       "    <tr>\n",
       "      <th>2</th>\n",
       "      <td>setu siung 119 rt 5 1 13880 cipayung</td>\n",
       "      <td>siung</td>\n",
       "      <td>[setu, siung, 119, rt, 5, 1, 13880, cipayung]</td>\n",
       "      <td>[siung]</td>\n",
       "      <td>[O, B-street, O, O, O, O, O, O]</td>\n",
       "    </tr>\n",
       "    <tr>\n",
       "      <th>3</th>\n",
       "      <td>toko dita, kertosono</td>\n",
       "      <td></td>\n",
       "      <td>[toko, dita,, kertosono]</td>\n",
       "      <td>[]</td>\n",
       "      <td>[O, O, O]</td>\n",
       "    </tr>\n",
       "    <tr>\n",
       "      <th>4</th>\n",
       "      <td>jl. orde baru</td>\n",
       "      <td>jl. orde baru</td>\n",
       "      <td>[jl., orde, baru]</td>\n",
       "      <td>[jl., orde, baru]</td>\n",
       "      <td>[B-street, I-street, I-street]</td>\n",
       "    </tr>\n",
       "  </tbody>\n",
       "</table>\n",
       "</div>"
      ],
      "text/plain": [
       "                                                 raw  \\\n",
       "0  jl kapuk timur delta sili iii lippo cika 11 a ...   \n",
       "1                                 aye, jati sampurna   \n",
       "2               setu siung 119 rt 5 1 13880 cipayung   \n",
       "3                               toko dita, kertosono   \n",
       "4                                      jl. orde baru   \n",
       "\n",
       "                                     street  \\\n",
       "0  jl kapuk timur delta sili iii lippo cika   \n",
       "1                                             \n",
       "2                                     siung   \n",
       "3                                             \n",
       "4                             jl. orde baru   \n",
       "\n",
       "                                           raw_split  \\\n",
       "0  [jl, kapuk, timur, delta, sili, iii, lippo, ci...   \n",
       "1                             [aye,, jati, sampurna]   \n",
       "2      [setu, siung, 119, rt, 5, 1, 13880, cipayung]   \n",
       "3                           [toko, dita,, kertosono]   \n",
       "4                                  [jl., orde, baru]   \n",
       "\n",
       "                                        street_split  \\\n",
       "0  [jl, kapuk, timur, delta, sili, iii, lippo, cika]   \n",
       "1                                                 []   \n",
       "2                                            [siung]   \n",
       "3                                                 []   \n",
       "4                                  [jl., orde, baru]   \n",
       "\n",
       "                                               label  \n",
       "0  [B-street, I-street, I-street, I-street, I-str...  \n",
       "1                                          [O, O, O]  \n",
       "2                    [O, B-street, O, O, O, O, O, O]  \n",
       "3                                          [O, O, O]  \n",
       "4                     [B-street, I-street, I-street]  "
      ]
     },
     "execution_count": 144,
     "metadata": {},
     "output_type": "execute_result"
    }
   ],
   "source": [
    "data_train_label.head()"
   ]
  },
  {
   "cell_type": "code",
   "execution_count": 145,
   "metadata": {
    "ExecuteTime": {
     "end_time": "2021-03-15T08:04:38.041135Z",
     "start_time": "2021-03-15T08:04:35.958341Z"
    }
   },
   "outputs": [],
   "source": [
    "data_train_label.to_csv('data_train_label.csv',index=False)"
   ]
  },
  {
   "cell_type": "code",
   "execution_count": null,
   "metadata": {},
   "outputs": [],
   "source": []
  },
  {
   "cell_type": "markdown",
   "metadata": {
    "ExecuteTime": {
     "end_time": "2021-03-15T01:57:43.681458Z",
     "start_time": "2021-03-15T01:57:43.676457Z"
    }
   },
   "source": [
    "# Get data POI"
   ]
  },
  {
   "cell_type": "code",
   "execution_count": 8,
   "metadata": {
    "ExecuteTime": {
     "end_time": "2021-03-15T15:18:43.535875Z",
     "start_time": "2021-03-15T15:18:40.145162Z"
    }
   },
   "outputs": [],
   "source": [
    "poi = train['POI/street'].apply(lambda x: x.split('/')[0])\n",
    "poi_split = poi.apply(lambda x: x.split(' '))\n",
    "raw_split = train['raw_address'].apply(lambda x: x.split(' '))\n",
    "# data_train[:10]\n",
    "# print(data_train[10:])\n",
    "\n",
    "\n",
    "data_train = pd.DataFrame({'raw':train['raw_address'].values,'poi':poi, 'raw_split':raw_split,'poi_split':poi_split})"
   ]
  },
  {
   "cell_type": "code",
   "execution_count": 9,
   "metadata": {
    "ExecuteTime": {
     "end_time": "2021-03-15T15:19:27.392276Z",
     "start_time": "2021-03-15T15:19:27.179105Z"
    }
   },
   "outputs": [
    {
     "data": {
      "text/html": [
       "<div>\n",
       "<style scoped>\n",
       "    .dataframe tbody tr th:only-of-type {\n",
       "        vertical-align: middle;\n",
       "    }\n",
       "\n",
       "    .dataframe tbody tr th {\n",
       "        vertical-align: top;\n",
       "    }\n",
       "\n",
       "    .dataframe thead th {\n",
       "        text-align: right;\n",
       "    }\n",
       "</style>\n",
       "<table border=\"1\" class=\"dataframe\">\n",
       "  <thead>\n",
       "    <tr style=\"text-align: right;\">\n",
       "      <th></th>\n",
       "      <th>raw</th>\n",
       "      <th>poi</th>\n",
       "      <th>raw_split</th>\n",
       "      <th>poi_split</th>\n",
       "    </tr>\n",
       "  </thead>\n",
       "  <tbody>\n",
       "    <tr>\n",
       "      <th>299990</th>\n",
       "      <td>ver, durian bajenis</td>\n",
       "      <td>veruna</td>\n",
       "      <td>[ver,, durian, bajenis]</td>\n",
       "      <td>[veruna]</td>\n",
       "    </tr>\n",
       "    <tr>\n",
       "      <th>299991</th>\n",
       "      <td>prib 3 pangkalan jati baru cinere</td>\n",
       "      <td></td>\n",
       "      <td>[prib, 3, pangkalan, jati, baru, cinere]</td>\n",
       "      <td>[]</td>\n",
       "    </tr>\n",
       "    <tr>\n",
       "      <th>299992</th>\n",
       "      <td>kios asmi panaikang</td>\n",
       "      <td>kios asmi</td>\n",
       "      <td>[kios, asmi, panaikang]</td>\n",
       "      <td>[kios, asmi]</td>\n",
       "    </tr>\n",
       "    <tr>\n",
       "      <th>299993</th>\n",
       "      <td>perum tata resid nirwana no e1 6 tanjungan kel.</td>\n",
       "      <td></td>\n",
       "      <td>[perum, tata, resid, nirwana, no, e1, 6, tanju...</td>\n",
       "      <td>[]</td>\n",
       "    </tr>\n",
       "    <tr>\n",
       "      <th>299994</th>\n",
       "      <td>karawaci baru kakap raya 156 rt 1 rw 3 karawaci</td>\n",
       "      <td></td>\n",
       "      <td>[karawaci, baru, kakap, raya, 156, rt, 1, rw, ...</td>\n",
       "      <td>[]</td>\n",
       "    </tr>\n",
       "    <tr>\n",
       "      <th>299995</th>\n",
       "      <td>jend ahmad yani 331 kertasari ciamis</td>\n",
       "      <td></td>\n",
       "      <td>[jend, ahmad, yani, 331, kertasari, ciamis]</td>\n",
       "      <td>[]</td>\n",
       "    </tr>\n",
       "    <tr>\n",
       "      <th>299996</th>\n",
       "      <td>raya cila kko, cilandak timur kel.</td>\n",
       "      <td></td>\n",
       "      <td>[raya, cila, kko,, cilandak, timur, kel.]</td>\n",
       "      <td>[]</td>\n",
       "    </tr>\n",
       "    <tr>\n",
       "      <th>299997</th>\n",
       "      <td>tanjung gusta jl. yaya 2 no 17</td>\n",
       "      <td></td>\n",
       "      <td>[tanjung, gusta, jl., yaya, 2, no, 17]</td>\n",
       "      <td>[]</td>\n",
       "    </tr>\n",
       "    <tr>\n",
       "      <th>299998</th>\n",
       "      <td>jalan cipadu jaya taman asri gang bijaksana 3 ...</td>\n",
       "      <td>taman asri</td>\n",
       "      <td>[jalan, cipadu, jaya, taman, asri, gang, bijak...</td>\n",
       "      <td>[taman, asri]</td>\n",
       "    </tr>\n",
       "    <tr>\n",
       "      <th>299999</th>\n",
       "      <td>jaya maspion permata blok beryl b2  no.58</td>\n",
       "      <td>jaya maspion permata</td>\n",
       "      <td>[jaya, maspion, permata, blok, beryl, b2, , no...</td>\n",
       "      <td>[jaya, maspion, permata]</td>\n",
       "    </tr>\n",
       "  </tbody>\n",
       "</table>\n",
       "</div>"
      ],
      "text/plain": [
       "                                                      raw  \\\n",
       "299990                                ver, durian bajenis   \n",
       "299991                  prib 3 pangkalan jati baru cinere   \n",
       "299992                                kios asmi panaikang   \n",
       "299993    perum tata resid nirwana no e1 6 tanjungan kel.   \n",
       "299994    karawaci baru kakap raya 156 rt 1 rw 3 karawaci   \n",
       "299995               jend ahmad yani 331 kertasari ciamis   \n",
       "299996                 raya cila kko, cilandak timur kel.   \n",
       "299997                     tanjung gusta jl. yaya 2 no 17   \n",
       "299998  jalan cipadu jaya taman asri gang bijaksana 3 ...   \n",
       "299999          jaya maspion permata blok beryl b2  no.58   \n",
       "\n",
       "                         poi  \\\n",
       "299990                veruna   \n",
       "299991                         \n",
       "299992             kios asmi   \n",
       "299993                         \n",
       "299994                         \n",
       "299995                         \n",
       "299996                         \n",
       "299997                         \n",
       "299998            taman asri   \n",
       "299999  jaya maspion permata   \n",
       "\n",
       "                                                raw_split  \\\n",
       "299990                            [ver,, durian, bajenis]   \n",
       "299991           [prib, 3, pangkalan, jati, baru, cinere]   \n",
       "299992                            [kios, asmi, panaikang]   \n",
       "299993  [perum, tata, resid, nirwana, no, e1, 6, tanju...   \n",
       "299994  [karawaci, baru, kakap, raya, 156, rt, 1, rw, ...   \n",
       "299995        [jend, ahmad, yani, 331, kertasari, ciamis]   \n",
       "299996          [raya, cila, kko,, cilandak, timur, kel.]   \n",
       "299997             [tanjung, gusta, jl., yaya, 2, no, 17]   \n",
       "299998  [jalan, cipadu, jaya, taman, asri, gang, bijak...   \n",
       "299999  [jaya, maspion, permata, blok, beryl, b2, , no...   \n",
       "\n",
       "                       poi_split  \n",
       "299990                  [veruna]  \n",
       "299991                        []  \n",
       "299992              [kios, asmi]  \n",
       "299993                        []  \n",
       "299994                        []  \n",
       "299995                        []  \n",
       "299996                        []  \n",
       "299997                        []  \n",
       "299998             [taman, asri]  \n",
       "299999  [jaya, maspion, permata]  "
      ]
     },
     "execution_count": 9,
     "metadata": {},
     "output_type": "execute_result"
    }
   ],
   "source": [
    "data_train.tail(10)"
   ]
  },
  {
   "cell_type": "code",
   "execution_count": 7,
   "metadata": {
    "ExecuteTime": {
     "end_time": "2021-03-15T17:01:22.116609Z",
     "start_time": "2021-03-15T17:01:22.063395Z"
    }
   },
   "outputs": [],
   "source": [
    "# !pip install fuzzywuzzy\n",
    "# # fuzz.ratio('raya','jaya')\n",
    "# from fuzzywuzzy import fuzz\n",
    "# indexes_total = []\n",
    "# tags_total=[]\n",
    "# for row in data_train.values:\n",
    "#     a = row[2]\n",
    "#     b = row[-1]\n",
    "#     print(a)\n",
    "#     print(b)\n",
    "    \n",
    "#     index = [i for i,x in enumerate(a) if x==b[0]]\n",
    "#     indexes=[]\n",
    "#     tags = ['O'] * len(a)\n",
    "#     if b==['']:\n",
    "#         indexes_total.append([])\n",
    "#         tags_total.append(tags)\n",
    "#         print(indexes)\n",
    "#         print(tags)\n",
    "#         print()\n",
    "#         print()\n",
    "#         continue\n",
    "#     for match in index: \n",
    "#         iter_match = match\n",
    "#         if len(b)>1:\n",
    "#             iter_id = 1\n",
    "#             for i,val in enumerate(a[iter_match+1:],start=iter_match+1):\n",
    "#                 if fuzz.partial_ratio(a[i], b[iter_id])==100:\n",
    "#                     if iter_id==1:\n",
    "#                         indexes.append(iter_match)\n",
    "#                         tags[iter_match] = 'B-poi'\n",
    "#                     indexes.append(i)\n",
    "#                     tags[i] = 'I-poi'\n",
    "#                     iter_id+=1\n",
    "#                     if iter_id>len(b)-1:\n",
    "#                         break\n",
    "#                     continue\n",
    "#                 else:\n",
    "#                     indexes=[]\n",
    "#                     break\n",
    "#             if len(indexes)==len(b):\n",
    "#                 break\n",
    "#         else:\n",
    "#             tags[iter_match] = 'B-poi'\n",
    "#             indexes.append(iter_match)\n",
    "            \n",
    "#     indexes_total.append(indexes)\n",
    "#     tags_total.append(tags)\n",
    "#     print(indexes)\n",
    "#     print(tags)\n",
    "#     print()\n",
    "    \n",
    "    \n",
    "            \n",
    "            \n",
    "                \n",
    "            \n",
    "        \n",
    "    \n",
    "    "
   ]
  },
  {
   "cell_type": "code",
   "execution_count": 12,
   "metadata": {
    "ExecuteTime": {
     "end_time": "2021-03-15T15:27:09.153212Z",
     "start_time": "2021-03-15T15:27:09.130181Z"
    }
   },
   "outputs": [
    {
     "data": {
      "text/plain": [
       "True"
      ]
     },
     "execution_count": 12,
     "metadata": {},
     "output_type": "execute_result"
    }
   ],
   "source": [
    "len(indexes_total)==len(data_train.values)"
   ]
  },
  {
   "cell_type": "code",
   "execution_count": 13,
   "metadata": {
    "ExecuteTime": {
     "end_time": "2021-03-15T15:27:09.960336Z",
     "start_time": "2021-03-15T15:27:09.952338Z"
    }
   },
   "outputs": [
    {
     "data": {
      "text/plain": [
       "True"
      ]
     },
     "execution_count": 13,
     "metadata": {},
     "output_type": "execute_result"
    }
   ],
   "source": [
    "len(tags_total)==len(data_train.values)"
   ]
  },
  {
   "cell_type": "code",
   "execution_count": 14,
   "metadata": {
    "ExecuteTime": {
     "end_time": "2021-03-15T15:27:13.961021Z",
     "start_time": "2021-03-15T15:27:13.695881Z"
    }
   },
   "outputs": [],
   "source": [
    "data_train_label = data_train.copy()\n",
    "data_train_label['label'] = tags_total"
   ]
  },
  {
   "cell_type": "code",
   "execution_count": 15,
   "metadata": {
    "ExecuteTime": {
     "end_time": "2021-03-15T15:27:14.475530Z",
     "start_time": "2021-03-15T15:27:14.441560Z"
    }
   },
   "outputs": [
    {
     "data": {
      "text/html": [
       "<div>\n",
       "<style scoped>\n",
       "    .dataframe tbody tr th:only-of-type {\n",
       "        vertical-align: middle;\n",
       "    }\n",
       "\n",
       "    .dataframe tbody tr th {\n",
       "        vertical-align: top;\n",
       "    }\n",
       "\n",
       "    .dataframe thead th {\n",
       "        text-align: right;\n",
       "    }\n",
       "</style>\n",
       "<table border=\"1\" class=\"dataframe\">\n",
       "  <thead>\n",
       "    <tr style=\"text-align: right;\">\n",
       "      <th></th>\n",
       "      <th>raw</th>\n",
       "      <th>poi</th>\n",
       "      <th>raw_split</th>\n",
       "      <th>poi_split</th>\n",
       "      <th>label</th>\n",
       "    </tr>\n",
       "  </thead>\n",
       "  <tbody>\n",
       "    <tr>\n",
       "      <th>0</th>\n",
       "      <td>jl kapuk timur delta sili iii lippo cika 11 a ...</td>\n",
       "      <td></td>\n",
       "      <td>[jl, kapuk, timur, delta, sili, iii, lippo, ci...</td>\n",
       "      <td>[]</td>\n",
       "      <td>[O, O, O, O, O, O, O, O, O, O, O, O, O]</td>\n",
       "    </tr>\n",
       "    <tr>\n",
       "      <th>1</th>\n",
       "      <td>aye, jati sampurna</td>\n",
       "      <td></td>\n",
       "      <td>[aye,, jati, sampurna]</td>\n",
       "      <td>[]</td>\n",
       "      <td>[O, O, O]</td>\n",
       "    </tr>\n",
       "    <tr>\n",
       "      <th>2</th>\n",
       "      <td>setu siung 119 rt 5 1 13880 cipayung</td>\n",
       "      <td></td>\n",
       "      <td>[setu, siung, 119, rt, 5, 1, 13880, cipayung]</td>\n",
       "      <td>[]</td>\n",
       "      <td>[O, O, O, O, O, O, O, O]</td>\n",
       "    </tr>\n",
       "    <tr>\n",
       "      <th>3</th>\n",
       "      <td>toko dita, kertosono</td>\n",
       "      <td>toko dita</td>\n",
       "      <td>[toko, dita,, kertosono]</td>\n",
       "      <td>[toko, dita]</td>\n",
       "      <td>[B-poi, I-poi, O]</td>\n",
       "    </tr>\n",
       "    <tr>\n",
       "      <th>4</th>\n",
       "      <td>jl. orde baru</td>\n",
       "      <td></td>\n",
       "      <td>[jl., orde, baru]</td>\n",
       "      <td>[]</td>\n",
       "      <td>[O, O, O]</td>\n",
       "    </tr>\n",
       "  </tbody>\n",
       "</table>\n",
       "</div>"
      ],
      "text/plain": [
       "                                                 raw        poi  \\\n",
       "0  jl kapuk timur delta sili iii lippo cika 11 a ...              \n",
       "1                                 aye, jati sampurna              \n",
       "2               setu siung 119 rt 5 1 13880 cipayung              \n",
       "3                               toko dita, kertosono  toko dita   \n",
       "4                                      jl. orde baru              \n",
       "\n",
       "                                           raw_split     poi_split  \\\n",
       "0  [jl, kapuk, timur, delta, sili, iii, lippo, ci...            []   \n",
       "1                             [aye,, jati, sampurna]            []   \n",
       "2      [setu, siung, 119, rt, 5, 1, 13880, cipayung]            []   \n",
       "3                           [toko, dita,, kertosono]  [toko, dita]   \n",
       "4                                  [jl., orde, baru]            []   \n",
       "\n",
       "                                     label  \n",
       "0  [O, O, O, O, O, O, O, O, O, O, O, O, O]  \n",
       "1                                [O, O, O]  \n",
       "2                 [O, O, O, O, O, O, O, O]  \n",
       "3                        [B-poi, I-poi, O]  \n",
       "4                                [O, O, O]  "
      ]
     },
     "execution_count": 15,
     "metadata": {},
     "output_type": "execute_result"
    }
   ],
   "source": [
    "data_train_label.head()"
   ]
  },
  {
   "cell_type": "code",
   "execution_count": 16,
   "metadata": {
    "ExecuteTime": {
     "end_time": "2021-03-15T15:27:24.320473Z",
     "start_time": "2021-03-15T15:27:22.176351Z"
    }
   },
   "outputs": [],
   "source": [
    "data_train_label.to_csv('data_train_label_poi.csv',index=False)"
   ]
  },
  {
   "cell_type": "markdown",
   "metadata": {},
   "source": [
    "# predict"
   ]
  },
  {
   "cell_type": "code",
   "execution_count": 6,
   "metadata": {
    "ExecuteTime": {
     "end_time": "2021-03-15T15:56:34.555265Z",
     "start_time": "2021-03-15T15:56:34.542264Z"
    }
   },
   "outputs": [
    {
     "data": {
      "text/html": [
       "<div>\n",
       "<style scoped>\n",
       "    .dataframe tbody tr th:only-of-type {\n",
       "        vertical-align: middle;\n",
       "    }\n",
       "\n",
       "    .dataframe tbody tr th {\n",
       "        vertical-align: top;\n",
       "    }\n",
       "\n",
       "    .dataframe thead th {\n",
       "        text-align: right;\n",
       "    }\n",
       "</style>\n",
       "<table border=\"1\" class=\"dataframe\">\n",
       "  <thead>\n",
       "    <tr style=\"text-align: right;\">\n",
       "      <th></th>\n",
       "      <th>id</th>\n",
       "      <th>raw_address</th>\n",
       "    </tr>\n",
       "  </thead>\n",
       "  <tbody>\n",
       "    <tr>\n",
       "      <th>0</th>\n",
       "      <td>0</td>\n",
       "      <td>s. par 53 sidanegara 4 cilacap tengah</td>\n",
       "    </tr>\n",
       "    <tr>\n",
       "      <th>1</th>\n",
       "      <td>1</td>\n",
       "      <td>angg per, baloi indah kel. lubuk baja</td>\n",
       "    </tr>\n",
       "    <tr>\n",
       "      <th>2</th>\n",
       "      <td>2</td>\n",
       "      <td>asma laun, mand imog,</td>\n",
       "    </tr>\n",
       "    <tr>\n",
       "      <th>3</th>\n",
       "      <td>3</td>\n",
       "      <td>ud agung rej, raya nga sri wedari karanganyar</td>\n",
       "    </tr>\n",
       "    <tr>\n",
       "      <th>4</th>\n",
       "      <td>4</td>\n",
       "      <td>cut mutia, 35 baiturrahman</td>\n",
       "    </tr>\n",
       "  </tbody>\n",
       "</table>\n",
       "</div>"
      ],
      "text/plain": [
       "   id                                    raw_address\n",
       "0   0          s. par 53 sidanegara 4 cilacap tengah\n",
       "1   1          angg per, baloi indah kel. lubuk baja\n",
       "2   2                          asma laun, mand imog,\n",
       "3   3  ud agung rej, raya nga sri wedari karanganyar\n",
       "4   4                     cut mutia, 35 baiturrahman"
      ]
     },
     "execution_count": 6,
     "metadata": {},
     "output_type": "execute_result"
    }
   ],
   "source": [
    "test.head()"
   ]
  },
  {
   "cell_type": "code",
   "execution_count": null,
   "metadata": {},
   "outputs": [],
   "source": []
  }
 ],
 "metadata": {
  "kernelspec": {
   "display_name": "Python 3",
   "language": "python",
   "name": "python3"
  },
  "language_info": {
   "codemirror_mode": {
    "name": "ipython",
    "version": 3
   },
   "file_extension": ".py",
   "mimetype": "text/x-python",
   "name": "python",
   "nbconvert_exporter": "python",
   "pygments_lexer": "ipython3",
   "version": "3.8.3"
  },
  "toc": {
   "base_numbering": 1,
   "nav_menu": {},
   "number_sections": true,
   "sideBar": true,
   "skip_h1_title": false,
   "title_cell": "Table of Contents",
   "title_sidebar": "Contents",
   "toc_cell": false,
   "toc_position": {},
   "toc_section_display": true,
   "toc_window_display": true
  }
 },
 "nbformat": 4,
 "nbformat_minor": 4
}
